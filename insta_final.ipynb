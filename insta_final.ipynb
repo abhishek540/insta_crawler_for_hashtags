{
 "cells": [
  {
   "cell_type": "code",
   "execution_count": 1,
   "metadata": {},
   "outputs": [],
   "source": [
    "from selenium import webdriver\n",
    "from selenium.webdriver.common.keys import Keys\n",
    "from selenium.webdriver.support import expected_conditions as EC\n",
    "from selenium.webdriver.common.by import By\n",
    "from selenium.webdriver.support.wait import WebDriverWait\n",
    "import pandas as pd\n",
    "import time"
   ]
  },
  {
   "cell_type": "code",
   "execution_count": 2,
   "metadata": {},
   "outputs": [],
   "source": [
    "PATH = r\"C:\\Users\\abhik\\Downloads\\chromedriver_win32 (3)\\chromedriver.exe\"\n",
    "driver = webdriver.Chrome(PATH)242\n",
    "\n",
    "driver.get(\"https://www.instagram.com/\")\n",
    "\n",
    "username = WebDriverWait(driver,10).until(EC.element_to_be_clickable((By.CSS_SELECTOR,\"input[name='username']\")))\n",
    "password = WebDriverWait(driver,10).until(EC.element_to_be_clickable((By.CSS_SELECTOR,\"input[name='password']\")))\n",
    "\n",
    "username.clear()\n",
    "password.clear()\n",
    "username.send_keys(\"xxxxx\")\n",
    "password.send_keys(\"xxxxx\")\n",
    "\n",
    "log_in = WebDriverWait(driver,10).until(EC.element_to_be_clickable((By.CSS_SELECTOR,\"button[type='submit']\"))).click()"
   ]
  },
  {
   "cell_type": "code",
   "execution_count": 3,
   "metadata": {},
   "outputs": [],
   "source": [
    "not_now = WebDriverWait(driver,10).until(EC.element_to_be_clickable((By.XPATH,\"//button[contains(text(),'Not Now')]\"))).click()\n",
    "not_now2 = WebDriverWait(driver,10).until(EC.element_to_be_clickable((By.XPATH,\"//button[contains(text(),'Not Now')]\"))).click()"
   ]
  },
  {
   "cell_type": "code",
   "execution_count": 4,
   "metadata": {},
   "outputs": [],
   "source": [
    "query = \"moussy\"\n",
    "page = driver.get(\"https://www.instagram.com/explore/tags/\" + query)\n",
    "\n",
    "driver.execute_script(\"window.scrollBy(0,1000000)\")\n",
    "time.sleep(5)\n",
    "# driver.execute_script(\"window.scrollBy(0,1000000)\")\n",
    "# time.sleep(5)\n",
    "# driver.execute_script(\"window.scrollBy(0,1000000)\")\n",
    "# time.sleep(5)\n",
    "\n",
    "driver.get(\"https://www.instagram.com/explore/tags/\" + query)\n",
    "\n",
    "links = driver.find_elements_by_tag_name('a')\n",
    "links = [link.get_attribute('href') for link in links]"
   ]
  },
  {
   "cell_type": "code",
   "execution_count": 1,
   "metadata": {},
   "outputs": [],
   "source": [
    "df = {\"url\":[],\"profile_id\":[],\"likes\":[],\"caption\":[]}\n",
    "for i in range(10):\n",
    "    url = links[i]\n",
    "    pic_viewer = driver.get(url)\n",
    "    \n",
    "    profile_xpath = \"//*[@id=\\\"react-root\\\"]/section/main/div/div[1]/article/div/div[2]/div/div[1]/div/header/div[2]/div[1]/div[1]/div/span/a\" \n",
    "    likes_xpath = \"//*[@id=\\\"react-root\\\"]/section/main/div/div[1]/article/div/div[2]/div/div[2]/section[2]/div/div/div/a/div\"\n",
    "    # location_xpath = \"//*[@id=\\\"react-root\\\"]/section/main/div/div[1]/article/div/div[2]/div/div[1]/div/header/div[2]/div[2]/div/div[2]/div/a\"\n",
    "    caption_xpath = \"//*[@id=\\\"react-root\\\"]/section/main/div/div[1]/article/div/div[2]/div/div[2]/div[1]/ul/div/li/div/div/div[2]/span\"\n",
    "\n",
    "    \n",
    "    x1 = WebDriverWait(driver,10).until(EC.element_to_be_clickable((By.XPATH,profile_xpath)))\n",
    "    time.sleep(5)\n",
    "    x2 = WebDriverWait(driver,10).until(EC.element_to_be_clickable((By.XPATH,likes_xpath)))\n",
    "    time.sleep(5)\n",
    "    # x3 = WebDriverWait(driver,10).until(EC.element_to_be_clickable((By.XPATH,location_xpath)))\n",
    "    # time.sleep(5)\n",
    "    x4 = WebDriverWait(driver,10).until(EC.element_to_be_clickable((By.XPATH,caption_xpath)))\n",
    "    x1_text = x1.text\n",
    "    x2_text = x2.text\n",
    "    # x3_text = x3.text\n",
    "    x4_text = x4.text\n",
    "    df[\"url\"].append(url)\n",
    "    df[\"profile_id\"].append(x1_text)\n",
    "    # profile_data.append(x3_text)\n",
    "    df[\"likes\"].append(x2_text)\n",
    "    df[\"caption\"].append(x4_text)\n",
    "\n",
    "\n"
   ]
  },
  {
   "cell_type": "code",
   "execution_count": null,
   "metadata": {},
   "outputs": [],
   "source": [
    "df = pd.DataFrame.from_dict(df)"
   ]
  },
  {
   "cell_type": "code",
   "execution_count": null,
   "metadata": {},
   "outputs": [],
   "source": [
    "df"
   ]
  },
  {
   "cell_type": "code",
   "execution_count": null,
   "metadata": {},
   "outputs": [],
   "source": []
  },
  {
   "cell_type": "code",
   "execution_count": null,
   "metadata": {},
   "outputs": [],
   "source": []
  },
  {
   "cell_type": "code",
   "execution_count": null,
   "metadata": {},
   "outputs": [],
   "source": []
  },
  {
   "cell_type": "code",
   "execution_count": null,
   "metadata": {},
   "outputs": [],
   "source": []
  }
 ],
 "metadata": {
  "kernelspec": {
   "display_name": "Python 3",
   "language": "python",
   "name": "python3"
  },
  "language_info": {
   "codemirror_mode": {
    "name": "ipython",
    "version": 3
   },
   "file_extension": ".py",
   "mimetype": "text/x-python",
   "name": "python",
   "nbconvert_exporter": "python",
   "pygments_lexer": "ipython3",
   "version": "3.7.4"
  }
 },
 "nbformat": 4,
 "nbformat_minor": 2
}
